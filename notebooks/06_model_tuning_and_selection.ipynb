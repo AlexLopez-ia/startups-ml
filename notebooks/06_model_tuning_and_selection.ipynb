{
 "cells": [
  {
   "cell_type": "markdown",
   "metadata": {},
   "source": [
    "# Tuning y Selección de Modelos Avanzados\n",
    "\n",
    "En este notebook se exploran, ajustan y seleccionan modelos avanzados (Random Forest, XGBoost, etc.) para predecir el éxito de startups. Se emplean técnicas de validación cruzada y búsqueda de hiperparámetros."
   ]
  },
  {
   "cell_type": "markdown",
   "metadata": {},
   "source": [
    "Carga de datos y preprocesamiento"
   ]
  },
  {
   "cell_type": "code",
   "execution_count": 1,
   "metadata": {},
   "outputs": [],
   "source": [
    "import pandas as pd\n",
    "import numpy as np\n",
    "import matplotlib.pyplot as plt\n",
    "import seaborn as sns\n",
    "from sklearn.model_selection import train_test_split, cross_val_score\n",
    "from sklearn.metrics import accuracy_score, classification_report, confusion_matrix\n",
    "from sklearn.tree import DecisionTreeClassifier\n",
    "from sklearn.linear_model import LogisticRegression\n",
    "import pickle\n",
    "import sys\n",
    "from pathlib import Path\n",
    "from collections import Counter\n",
    "\n",
    "# Añadir directorio raíz al path\n",
    "sys.path.append(str(Path().resolve().parent))\n",
    "\n",
    "from src.config import PROCESSED_DATA_DIR, MODELS_DIR, RANDOM_STATE, TEST_SIZE, TARGET_COLUMN\n",
    "\n",
    "# --- Carga y limpieza de datos para comparación de modelos avanzados ---\n",
    "df = pd.read_csv(PROCESSED_DATA_DIR / \"startup_data_processed.csv\")\n",
    "\n",
    "prefijos_a_eliminar = [\n",
    "    'closed', 'name', 'city', 'id', 'object', 'last', 'first', 'zip', 'Unnamed:', 'founded'\n",
    "]\n",
    "cols_problematicas = [col for col in df.columns if any(col.startswith(pref) for pref in prefijos_a_eliminar)]\n",
    "df = df.drop(columns=cols_problematicas)\n",
    "\n",
    "columnas_a_eliminar = [\n",
    "    'Unnamed: 0', 'id', 'object_id', 'Unnamed: 6', 'state_code.1',\n",
    "    'zip_code', 'city', 'name', 'closed_at',\n",
    "    'founded_at', 'first_funding_at', 'last_funding_at', 'labels'\n",
    "]\n",
    "df = df.drop(columns=[col for col in columnas_a_eliminar if col in df.columns])\n",
    "\n",
    "cols_baja_var = [col for col in df.columns if df[col].nunique() <= 1]\n",
    "df = df.drop(columns=cols_baja_var)\n",
    "\n",
    "X = df.drop(TARGET_COLUMN, axis=1)\n",
    "y = df[TARGET_COLUMN]\n"
   ]
  },
  {
   "cell_type": "markdown",
   "metadata": {},
   "source": [
    "Definición de modelos y grids de hiperparámetros"
   ]
  },
  {
   "cell_type": "code",
   "execution_count": 2,
   "metadata": {},
   "outputs": [
    {
     "name": "stdout",
     "output_type": "stream",
     "text": [
      "Modelos avanzados definidos: Random Forest y XGBoost\n"
     ]
    }
   ],
   "source": [
    "# --- Definición de modelos avanzados: Random Forest y XGBoost ---\n",
    "\n",
    "from sklearn.ensemble import RandomForestClassifier\n",
    "from xgboost import XGBClassifier\n",
    "\n",
    "# Definir el modelo Random Forest\n",
    "rf_model = RandomForestClassifier(\n",
    "    n_estimators=100,\n",
    "    max_depth=None,\n",
    "    min_samples_split=2,\n",
    "    random_state=RANDOM_STATE,\n",
    "    n_jobs=-1\n",
    ")\n",
    "\n",
    "# Definir el modelo XGBoost\n",
    "xgb_model = XGBClassifier(\n",
    "    n_estimators=100,\n",
    "    max_depth=6,\n",
    "    learning_rate=0.1,\n",
    "    subsample=0.8,\n",
    "    colsample_bytree=0.8,\n",
    "    use_label_encoder=False,\n",
    "    eval_metric='logloss',\n",
    "    random_state=RANDOM_STATE,\n",
    "    n_jobs=-1\n",
    ")\n",
    "\n",
    "print(\"Modelos avanzados definidos: Random Forest y XGBoost\")"
   ]
  },
  {
   "cell_type": "markdown",
   "metadata": {},
   "source": [
    "Búsqueda de hiperparámetros (GridSearchCV/RandomizedSearchCV)"
   ]
  },
  {
   "cell_type": "code",
   "execution_count": 3,
   "metadata": {},
   "outputs": [
    {
     "name": "stdout",
     "output_type": "stream",
     "text": [
      "['is_gamesvideo', 'category_code_games_video', 'category_code_photo_video']\n",
      "[]\n",
      "Columnas con muchos valores únicos: []\n",
      "[]\n",
      "Buscando mejores hiperparámetros para Random Forest...\n",
      "Fitting 5 folds for each of 24 candidates, totalling 120 fits\n",
      "Mejor configuración RF: {'max_depth': 10, 'min_samples_leaf': 1, 'min_samples_split': 5, 'n_estimators': 100}\n",
      "Mejor accuracy (CV): 0.7995417156286722\n",
      "Buscando mejores hiperparámetros para XGBoost...\n",
      "Fitting 5 folds for each of 48 candidates, totalling 240 fits\n"
     ]
    },
    {
     "name": "stderr",
     "output_type": "stream",
     "text": [
      "c:\\Users\\alexl\\OneDrive\\Escritorio\\Machine Learning\\startups-ml\\venv\\Lib\\site-packages\\sklearn\\model_selection\\_validation.py:528: FitFailedWarning: \n",
      "1 fits failed out of a total of 240.\n",
      "The score on these train-test partitions for these parameters will be set to nan.\n",
      "If these failures are not expected, you can try to debug them by setting error_score='raise'.\n",
      "\n",
      "Below are more details about the failures:\n",
      "--------------------------------------------------------------------------------\n",
      "1 fits failed with the following error:\n",
      "Traceback (most recent call last):\n",
      "  File \"c:\\Users\\alexl\\OneDrive\\Escritorio\\Machine Learning\\startups-ml\\venv\\Lib\\site-packages\\sklearn\\model_selection\\_validation.py\", line 866, in _fit_and_score\n",
      "    estimator.fit(X_train, y_train, **fit_params)\n",
      "  File \"c:\\Users\\alexl\\OneDrive\\Escritorio\\Machine Learning\\startups-ml\\venv\\Lib\\site-packages\\xgboost\\core.py\", line 729, in inner_f\n",
      "    return func(**kwargs)\n",
      "           ^^^^^^^^^^^^^^\n",
      "  File \"c:\\Users\\alexl\\OneDrive\\Escritorio\\Machine Learning\\startups-ml\\venv\\Lib\\site-packages\\xgboost\\sklearn.py\", line 1663, in fit\n",
      "    train_dmatrix, evals = _wrap_evaluation_matrices(\n",
      "                           ^^^^^^^^^^^^^^^^^^^^^^^^^^\n",
      "  File \"c:\\Users\\alexl\\OneDrive\\Escritorio\\Machine Learning\\startups-ml\\venv\\Lib\\site-packages\\xgboost\\sklearn.py\", line 628, in _wrap_evaluation_matrices\n",
      "    train_dmatrix = create_dmatrix(\n",
      "                    ^^^^^^^^^^^^^^^\n",
      "  File \"c:\\Users\\alexl\\OneDrive\\Escritorio\\Machine Learning\\startups-ml\\venv\\Lib\\site-packages\\xgboost\\sklearn.py\", line 1137, in _create_dmatrix\n",
      "    return QuantileDMatrix(\n",
      "           ^^^^^^^^^^^^^^^^\n",
      "  File \"c:\\Users\\alexl\\OneDrive\\Escritorio\\Machine Learning\\startups-ml\\venv\\Lib\\site-packages\\xgboost\\core.py\", line 729, in inner_f\n",
      "    return func(**kwargs)\n",
      "           ^^^^^^^^^^^^^^\n",
      "  File \"c:\\Users\\alexl\\OneDrive\\Escritorio\\Machine Learning\\startups-ml\\venv\\Lib\\site-packages\\xgboost\\core.py\", line 1614, in __init__\n",
      "    self._init(\n",
      "  File \"c:\\Users\\alexl\\OneDrive\\Escritorio\\Machine Learning\\startups-ml\\venv\\Lib\\site-packages\\xgboost\\core.py\", line 1678, in _init\n",
      "    it.reraise()\n",
      "  File \"c:\\Users\\alexl\\OneDrive\\Escritorio\\Machine Learning\\startups-ml\\venv\\Lib\\site-packages\\xgboost\\core.py\", line 572, in reraise\n",
      "    raise exc  # pylint: disable=raising-bad-type\n",
      "    ^^^^^^^^^\n",
      "  File \"c:\\Users\\alexl\\OneDrive\\Escritorio\\Machine Learning\\startups-ml\\venv\\Lib\\site-packages\\xgboost\\core.py\", line 553, in _handle_exception\n",
      "    return fn()\n",
      "           ^^^^\n",
      "  File \"c:\\Users\\alexl\\OneDrive\\Escritorio\\Machine Learning\\startups-ml\\venv\\Lib\\site-packages\\xgboost\\core.py\", line 640, in <lambda>\n",
      "    return self._handle_exception(lambda: int(self.next(input_data)), 0)\n",
      "                                              ^^^^^^^^^^^^^^^^^^^^^\n",
      "  File \"c:\\Users\\alexl\\OneDrive\\Escritorio\\Machine Learning\\startups-ml\\venv\\Lib\\site-packages\\xgboost\\data.py\", line 1654, in next\n",
      "    input_data(**self.kwargs)\n",
      "  File \"c:\\Users\\alexl\\OneDrive\\Escritorio\\Machine Learning\\startups-ml\\venv\\Lib\\site-packages\\xgboost\\core.py\", line 729, in inner_f\n",
      "    return func(**kwargs)\n",
      "           ^^^^^^^^^^^^^^\n",
      "  File \"c:\\Users\\alexl\\OneDrive\\Escritorio\\Machine Learning\\startups-ml\\venv\\Lib\\site-packages\\xgboost\\core.py\", line 629, in input_data\n",
      "    self.proxy.set_info(\n",
      "  File \"c:\\Users\\alexl\\OneDrive\\Escritorio\\Machine Learning\\startups-ml\\venv\\Lib\\site-packages\\xgboost\\core.py\", line 729, in inner_f\n",
      "    return func(**kwargs)\n",
      "           ^^^^^^^^^^^^^^\n",
      "  File \"c:\\Users\\alexl\\OneDrive\\Escritorio\\Machine Learning\\startups-ml\\venv\\Lib\\site-packages\\xgboost\\core.py\", line 961, in set_info\n",
      "    self.set_label(label)\n",
      "  File \"c:\\Users\\alexl\\OneDrive\\Escritorio\\Machine Learning\\startups-ml\\venv\\Lib\\site-packages\\xgboost\\core.py\", line 1099, in set_label\n",
      "    dispatch_meta_backend(self, label, \"label\", \"float\")\n",
      "  File \"c:\\Users\\alexl\\OneDrive\\Escritorio\\Machine Learning\\startups-ml\\venv\\Lib\\site-packages\\xgboost\\data.py\", line 1586, in dispatch_meta_backend\n",
      "    _meta_from_numpy(data, name, dtype, handle)\n",
      "  File \"c:\\Users\\alexl\\OneDrive\\Escritorio\\Machine Learning\\startups-ml\\venv\\Lib\\site-packages\\xgboost\\data.py\", line 1533, in _meta_from_numpy\n",
      "    _check_call(_LIB.XGDMatrixSetInfoFromInterface(handle, c_str(field), interface_str))\n",
      "  File \"c:\\Users\\alexl\\OneDrive\\Escritorio\\Machine Learning\\startups-ml\\venv\\Lib\\site-packages\\xgboost\\core.py\", line 310, in _check_call\n",
      "    raise XGBoostError(py_str(_LIB.XGBGetLastError()))\n",
      "xgboost.core.XGBoostError: [00:00:51] C:\\actions-runner\\_work\\xgboost\\xgboost\\src\\data\\array_interface.cu:44: Check failed: err == cudaGetLastError() (0 vs. 46) : \n",
      "\n",
      "  warnings.warn(some_fits_failed_message, FitFailedWarning)\n",
      "c:\\Users\\alexl\\OneDrive\\Escritorio\\Machine Learning\\startups-ml\\venv\\Lib\\site-packages\\sklearn\\model_selection\\_search.py:1108: UserWarning: One or more of the test scores are non-finite: [       nan 0.76810811 0.79198002 0.78224442 0.78547591 0.7833255\n",
      " 0.79417156 0.79308461 0.78005875 0.78008813 0.79416569 0.78333725\n",
      " 0.78981786 0.79848414 0.78007638 0.78980024 0.77896005 0.78658637\n",
      " 0.78114571 0.78222092 0.78008813 0.78441246 0.77357227 0.78549354\n",
      " 0.77245006 0.76596945 0.79199765 0.78548179 0.77896592 0.78224442\n",
      " 0.78874853 0.78875441 0.77896592 0.76921857 0.79415394 0.78117509\n",
      " 0.78440658 0.79523502 0.77576381 0.78436545 0.78548766 0.7876557\n",
      " 0.77574618 0.78331375 0.78875441 0.78656874 0.77250294 0.78330787]\n",
      "  warnings.warn(\n",
      "c:\\Users\\alexl\\OneDrive\\Escritorio\\Machine Learning\\startups-ml\\venv\\Lib\\site-packages\\xgboost\\training.py:183: UserWarning: [00:01:09] WARNING: C:\\actions-runner\\_work\\xgboost\\xgboost\\src\\learner.cc:738: \n",
      "Parameters: { \"use_label_encoder\" } are not used.\n",
      "\n",
      "  bst.update(dtrain, iteration=i, fobj=obj)\n"
     ]
    },
    {
     "name": "stdout",
     "output_type": "stream",
     "text": [
      "Mejor configuración XGB: {'colsample_bytree': 0.8, 'learning_rate': 0.1, 'max_depth': 3, 'n_estimators': 100, 'subsample': 1.0}\n",
      "Mejor accuracy (CV): 0.7984841363102233\n"
     ]
    },
    {
     "data": {
      "text/plain": [
       "['C:\\\\Users\\\\alexl\\\\OneDrive\\\\Escritorio\\\\Machine Learning\\\\startups-ml\\\\models\\\\best_xgb_model.pkl']"
      ]
     },
     "execution_count": 3,
     "metadata": {},
     "output_type": "execute_result"
    }
   ],
   "source": [
    "from sklearn.preprocessing import LabelEncoder\n",
    "from sklearn.model_selection import GridSearchCV\n",
    "import joblib\n",
    "\n",
    "le = LabelEncoder()\n",
    "y_encoded = le.fit_transform(y)\n",
    "\n",
    "print([col for col in X.columns if 'status' in col or 'acquired' in col or 'closed' in col or 'id' in col])\n",
    "print([col for col in X.columns if X[col].nunique() == len(X)])\n",
    "\n",
    "cols_muchos_unicos = [col for col in X.columns if X[col].nunique() > 0.9 * len(X)]\n",
    "print(\"Columnas con muchos valores únicos:\", cols_muchos_unicos)\n",
    "\n",
    "for col in X.columns:\n",
    "    if X[col].nunique() > 1:\n",
    "        corr = np.corrcoef(X[col], y_encoded)[0, 1]\n",
    "        if abs(corr) > 0.99:\n",
    "            print(f\"Columna {col} tiene correlación perfecta con el target: {corr}\")\n",
    "\n",
    "print([col for col in X.columns if X[col].nunique() <= 1])\n",
    "\n",
    "\n",
    "\n",
    "\n",
    "\n",
    "# --- Definir grids de hiperparámetros ---\n",
    "rf_param_grid = {\n",
    "    'n_estimators': [100, 200],\n",
    "    'max_depth': [None, 5, 10],\n",
    "    'min_samples_split': [2, 5],\n",
    "    'min_samples_leaf': [1, 3]\n",
    "}\n",
    "\n",
    "xgb_param_grid = {\n",
    "    'n_estimators': [100, 200],\n",
    "    'max_depth': [3, 6, 10],\n",
    "    'learning_rate': [0.01, 0.1],\n",
    "    'subsample': [0.8, 1.0],\n",
    "    'colsample_bytree': [0.8, 1.0]\n",
    "}\n",
    "\n",
    "# --- Búsqueda de hiperparámetros con GridSearchCV ---\n",
    "\n",
    "# Random Forest\n",
    "print(\"Buscando mejores hiperparámetros para Random Forest...\")\n",
    "rf_grid = GridSearchCV(\n",
    "    rf_model, rf_param_grid, cv=5, scoring='accuracy', n_jobs=-1, verbose=2\n",
    ")\n",
    "rf_grid.fit(X, y_encoded)\n",
    "print(\"Mejor configuración RF:\", rf_grid.best_params_)\n",
    "print(\"Mejor accuracy (CV):\", rf_grid.best_score_)\n",
    "joblib.dump(rf_grid.best_estimator_, MODELS_DIR / \"best_rf_model.pkl\")\n",
    "\n",
    "# XGBoost\n",
    "print(\"Buscando mejores hiperparámetros para XGBoost...\")\n",
    "xgb_grid = GridSearchCV(\n",
    "    xgb_model, xgb_param_grid, cv=5, scoring='accuracy', n_jobs=-1, verbose=2\n",
    ")\n",
    "xgb_grid.fit(X, y_encoded)\n",
    "print(\"Mejor configuración XGB:\", xgb_grid.best_params_)\n",
    "print(\"Mejor accuracy (CV):\", xgb_grid.best_score_)\n",
    "joblib.dump(xgb_grid.best_estimator_, MODELS_DIR / \"best_xgb_model.pkl\")"
   ]
  },
  {
   "cell_type": "markdown",
   "metadata": {},
   "source": [
    "Muestra las métricas medias y desviaciones estándar de la validación cruzada."
   ]
  },
  {
   "cell_type": "code",
   "execution_count": 4,
   "metadata": {},
   "outputs": [
    {
     "name": "stdout",
     "output_type": "stream",
     "text": [
      "Resultados de validación cruzada - Random Forest:\n",
      "Mejores hiperparámetros: {'max_depth': 10, 'min_samples_leaf': 1, 'min_samples_split': 5, 'n_estimators': 100}\n",
      "Mejor accuracy (media CV): 0.7995\n",
      "Desviación estándar (CV): 0.0096\n",
      "\n",
      "Resultados de validación cruzada - XGBoost:\n",
      "Mejores hiperparámetros: {'colsample_bytree': 0.8, 'learning_rate': 0.1, 'max_depth': 3, 'n_estimators': 100, 'subsample': 1.0}\n",
      "Mejor accuracy (media CV): 0.7985\n",
      "Desviación estándar (CV): 0.0143\n"
     ]
    }
   ],
   "source": [
    "#Muestra las métricas medias y desviaciones estándar de la validación cruzada.\n",
    "\n",
    "import pandas as pd\n",
    "\n",
    "# Resultados de validación cruzada para Random Forest\n",
    "rf_cv_results = pd.DataFrame(rf_grid.cv_results_)\n",
    "print(\"Resultados de validación cruzada - Random Forest:\")\n",
    "print(\"Mejores hiperparámetros:\", rf_grid.best_params_)\n",
    "print(f\"Mejor accuracy (media CV): {rf_grid.best_score_:.4f}\")\n",
    "print(f\"Desviación estándar (CV): {rf_cv_results.loc[rf_grid.best_index_, 'std_test_score']:.4f}\")\n",
    "\n",
    "# Resultados de validación cruzada para XGBoost\n",
    "xgb_cv_results = pd.DataFrame(xgb_grid.cv_results_)\n",
    "print(\"\\nResultados de validación cruzada - XGBoost:\")\n",
    "print(\"Mejores hiperparámetros:\", xgb_grid.best_params_)\n",
    "print(f\"Mejor accuracy (media CV): {xgb_grid.best_score_:.4f}\")\n",
    "print(f\"Desviación estándar (CV): {xgb_cv_results.loc[xgb_grid.best_index_, 'std_test_score']:.4f}\")"
   ]
  },
  {
   "cell_type": "markdown",
   "metadata": {},
   "source": [
    "Evaluación en test "
   ]
  },
  {
   "cell_type": "code",
   "execution_count": 7,
   "metadata": {},
   "outputs": [
    {
     "name": "stdout",
     "output_type": "stream",
     "text": [
      "\n",
      "--- Evaluación de Random Forest en test ---\n",
      "Accuracy en test: 0.9027\n",
      "Reporte de clasificación:\n",
      "              precision    recall  f1-score   support\n",
      "\n",
      "    acquired       0.88      0.99      0.93       120\n",
      "      closed       0.98      0.74      0.84        65\n",
      "\n",
      "    accuracy                           0.90       185\n",
      "   macro avg       0.93      0.87      0.89       185\n",
      "weighted avg       0.91      0.90      0.90       185\n",
      "\n"
     ]
    },
    {
     "data": {
      "image/png": "[encoded data removed]",
      "text/plain": [
       "<Figure size 600x400 with 2 Axes>"
      ]
     },
     "metadata": {},
     "output_type": "display_data"
    },
    {
     "name": "stdout",
     "output_type": "stream",
     "text": [
      "\n",
      "--- Evaluación de XGBoost en test ---\n",
      "Accuracy en test: 0.8757\n",
      "Reporte de clasificación:\n",
      "              precision    recall  f1-score   support\n",
      "\n",
      "    acquired       0.88      0.94      0.91       120\n",
      "      closed       0.88      0.75      0.81        65\n",
      "\n",
      "    accuracy                           0.88       185\n",
      "   macro avg       0.88      0.85      0.86       185\n",
      "weighted avg       0.88      0.88      0.87       185\n",
      "\n"
     ]
    },
    {
     "data": {
      "image/png": "[encoded data removed]",
      "text/plain": [
       "<Figure size 600x400 with 2 Axes>"
      ]
     },
     "metadata": {},
     "output_type": "display_data"
    }
   ],
   "source": [
    "import joblib\n",
    "from sklearn.metrics import accuracy_score, classification_report, confusion_matrix\n",
    "import matplotlib.pyplot as plt\n",
    "import seaborn as sns\n",
    "\n",
    "# Divide el dataset de nuevo (asegúrate de usar el mismo random_state y test_size)\n",
    "X_train, X_test, y_train, y_test = train_test_split(\n",
    "    X, y_encoded, test_size=TEST_SIZE, random_state=RANDOM_STATE, stratify=y_encoded\n",
    ")\n",
    "\n",
    "# Cargar los mejores modelos guardados\n",
    "best_rf = joblib.load(MODELS_DIR / \"best_rf_model.pkl\")\n",
    "best_xgb = joblib.load(MODELS_DIR / \"best_xgb_model.pkl\")\n",
    "\n",
    "# Evaluar en test\n",
    "for model, name in zip([best_rf, best_xgb], [\"Random Forest\", \"XGBoost\"]):\n",
    "    print(f\"\\n--- Evaluación de {name} en test ---\")\n",
    "    y_pred = model.predict(X_test)\n",
    "    print(f\"Accuracy en test: {accuracy_score(y_test, y_pred):.4f}\")\n",
    "    print(\"Reporte de clasificación:\")\n",
    "    print(classification_report(y_test, y_pred, target_names=le.classes_))\n",
    "    \n",
    "    # Matriz de confusión\n",
    "    plt.figure(figsize=(6, 4))\n",
    "    cm = confusion_matrix(y_test, y_pred)\n",
    "    sns.heatmap(cm, annot=True, fmt='d', cmap='Blues', xticklabels=le.classes_, yticklabels=le.classes_)\n",
    "    plt.xlabel('Predicción')\n",
    "    plt.ylabel('Valor real')\n",
    "    plt.title(f'Matriz de Confusión - {name}')\n",
    "    plt.tight_layout()\n",
    "    plt.savefig(f\"../reports/figures/model_tuning_and_selection/{name}_confusion_matrix.png\")\n",
    "    plt.show()"
   ]
  },
  {
   "cell_type": "markdown",
   "metadata": {},
   "source": [
    "## Interpretación de resultados en test\n",
    "\n",
    "### Random Forest\n",
    "\n",
    "- **Accuracy en test:** 0.90  \n",
    "  El modelo acierta el 90% de las predicciones en el conjunto de test, lo que confirma la buena generalización observada en la validación cruzada.\n",
    "\n",
    "- **Reporte de clasificación:**\n",
    "  - **Clase \"acquired\":**\n",
    "    - *Precision:* 0.88 → De las startups predichas como \"acquired\", el 88% realmente lo son.\n",
    "    - *Recall:* 0.99 → De todas las startups realmente \"acquired\", el modelo identifica correctamente el 99%.\n",
    "    - *F1-score:* 0.93 → Balance entre precisión y recall, muy alto.\n",
    "  - **Clase \"closed\":**\n",
    "    - *Precision:* 0.98 → De las predichas como \"closed\", el 98% realmente lo son.\n",
    "    - *Recall:* 0.74 → El modelo identifica correctamente el 74% de las \"closed\", pero deja escapar algunas (falsos negativos).\n",
    "    - *F1-score:* 0.84\n",
    "\n",
    "- **Matriz de confusión:**  \n",
    "  El modelo es especialmente fuerte identificando startups exitosas (\"acquired\"), pero comete algunos errores clasificando \"closed\" (17 casos de \"closed\" predichos como \"acquired\").\n",
    "\n",
    "---\n",
    "\n",
    "### XGBoost\n",
    "\n",
    "- **Accuracy en test:** 0.88  \n",
    "  Ligeramente inferior al Random Forest, pero aún así robusto.\n",
    "\n",
    "- **Reporte de clasificación:**\n",
    "  - **Clase \"acquired\":**\n",
    "    - *Precision:* 0.88\n",
    "    - *Recall:* 0.94\n",
    "    - *F1-score:* 0.91\n",
    "  - **Clase \"closed\":**\n",
    "    - *Precision:* 0.88\n",
    "    - *Recall:* 0.75\n",
    "    - *F1-score:* 0.81\n",
    "\n",
    "- **Matriz de confusión:**  \n",
    "  El patrón es similar: el modelo identifica bien \"acquired\", pero tiene más errores clasificando \"closed\" (16 falsos negativos).\n",
    "\n",
    "\n",
    "\n"
   ]
  },
  {
   "cell_type": "code",
   "execution_count": 9,
   "metadata": {},
   "outputs": [
    {
     "name": "stdout",
     "output_type": "stream",
     "text": [
      "Pipeline completo guardado en: C:\\Users\\alexl\\OneDrive\\Escritorio\\Machine Learning\\startups-ml\\models\\final_rf_pipeline.pkl\n"
     ]
    }
   ],
   "source": [
    "from sklearn.pipeline import Pipeline\n",
    "import joblib\n",
    "\n",
    "# Si tu preprocesamiento ya está hecho y solo necesitas guardar el modelo:\n",
    "pipeline = Pipeline([\n",
    "    ('model', best_rf)  # o best_xgb si prefieres ese\n",
    "])\n",
    "\n",
    "# Entrena el pipeline (solo necesario si no lo habías hecho ya)\n",
    "pipeline.fit(X_train, y_train)\n",
    "\n",
    "# Guarda el pipeline completo\n",
    "joblib.dump(pipeline, MODELS_DIR / \"final_rf_pipeline.pkl\")\n",
    "print(\"Pipeline completo guardado en:\", MODELS_DIR / \"final_rf_pipeline.pkl\")"
   ]
  },
  {
   "cell_type": "code",
   "execution_count": 14,
   "metadata": {},
   "outputs": [
    {
     "name": "stdout",
     "output_type": "stream",
     "text": [
      "¡Archivos X_test.csv, y_test.csv y nuevos_datos.csv exportados correctamente en la carpeta /data!\n"
     ]
    }
   ],
   "source": [
    "import os\n",
    "import pandas as pd\n",
    "\n",
    "data_dir = \"../data\"\n",
    "os.makedirs(data_dir, exist_ok=True)\n",
    "\n",
    "X_test.to_csv(f\"{data_dir}/X_test.csv\", index=False)\n",
    "y_test_df.to_csv(f\"{data_dir}/y_test.csv\", index=False)\n",
    "X_test.head(5).to_csv(f\"{data_dir}/nuevos_datos.csv\", index=False)\n",
    "\n",
    "print(\"¡Archivos X_test.csv, y_test.csv y nuevos_datos.csv exportados correctamente en la carpeta /data!\")"
   ]
  },
  {
   "cell_type": "markdown",
   "metadata": {},
   "source": [
    "## Conclusiones\n",
    "\n",
    "- El modelo Random Forest, tras ajuste de hiperparámetros y validación cruzada, mostró el mejor desempeño en el conjunto de test (accuracy ≈ 90%).\n",
    "- Ambos modelos presentan alta precisión para identificar startups exitosas (\"acquired\"), pero menor recall para detectar startups fallidas (\"closed\").\n",
    "- La validación cruzada mostró resultados consistentes y robustos, lo que indica buena capacidad de generalización.\n",
    "\n"
   ]
  }
 ],
 "metadata": {
  "kernelspec": {
   "display_name": "venv",
   "language": "python",
   "name": "python3"
  },
  "language_info": {
   "codemirror_mode": {
    "name": "ipython",
    "version": 3
   },
   "file_extension": ".py",
   "mimetype": "text/x-python",
   "name": "python",
   "nbconvert_exporter": "python",
   "pygments_lexer": "ipython3",
   "version": "3.12.7"
  }
 },
 "nbformat": 4,
 "nbformat_minor": 2
}
